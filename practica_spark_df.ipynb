{
 "cells": [
  {
   "cell_type": "code",
   "execution_count": 6,
   "metadata": {},
   "outputs": [],
   "source": [
    "from pyspark import SparkContext\n",
    "from pyspark.sql import SparkSession,SQLContext\n",
    "\n",
    "from pyspark.sql.types import StringType,StructField,IntegerType,StructType,FloatType,Row\n",
    "\n"
   ]
  },
  {
   "cell_type": "code",
   "execution_count": null,
   "metadata": {},
   "outputs": [],
   "source": [
    "spark = SparkContext(master=\"local\",appName=\"DataFrames\")\n",
    "sqlContext = SQLContext(spark)"
   ]
  },
  {
   "cell_type": "code",
   "execution_count": 14,
   "metadata": {},
   "outputs": [],
   "source": [
    "juegoSchema = StructType([\n",
    "    StructField(\"juego_id\",IntegerType(),False),\n",
    "    StructField(\"anio\",StringType(),False),\n",
    "    StructField(\"temporada\",StringType(),False),\n",
    "    StructField(\"ciudad\",StringType(),False)\n",
    "])\n",
    "juegoDF = sqlContext.read.schema(juegoSchema)\\\n",
    "    .option(\"header\",\"true\").csv('./files/juegos.csv')"
   ]
  },
  {
   "cell_type": "code",
   "execution_count": 19,
   "metadata": {},
   "outputs": [
    {
     "name": "stdout",
     "output_type": "stream",
     "text": [
      "22/10/26 23:12:24 WARN CSVHeaderChecker: Number of column in CSV header is not equal to number of fields in the schema:\n",
      " Header length: 5, schema size: 4\n",
      "CSV file: file:///home/osmait/Documentos/Work-space/python/etl/etl_animes/files/juegos.csv\n",
      "+--------+-----------+---------+------+\n",
      "|juego_id|       anio|temporada|ciudad|\n",
      "+--------+-----------+---------+------+\n",
      "|       1|1896 Verano|     1896|Verano|\n",
      "|       2|1900 Verano|     1900|Verano|\n",
      "|       3|1904 Verano|     1904|Verano|\n",
      "|       4|1906 Verano|     1906|Verano|\n",
      "+--------+-----------+---------+------+\n",
      "only showing top 4 rows\n",
      "\n"
     ]
    }
   ],
   "source": [
    "juegoDF.show(4)"
   ]
  },
  {
   "cell_type": "code",
   "execution_count": 26,
   "metadata": {},
   "outputs": [
    {
     "name": "stdout",
     "output_type": "stream",
     "text": [
      "+---------+--------------------+----------+\n",
      "|evento_id|              evento|deporte_id|\n",
      "+---------+--------------------+----------+\n",
      "|        1|Basketball Men's ...|         1|\n",
      "|        2|Judo Men's Extra-...|         2|\n",
      "|        3|Football Men's Fo...|         3|\n",
      "|        4|Tug-Of-War Men's ...|         4|\n",
      "|        5|Speed Skating Wom...|         5|\n",
      "+---------+--------------------+----------+\n",
      "only showing top 5 rows\n",
      "\n"
     ]
    }
   ],
   "source": [
    "\n",
    "sqlContext.read.option(\"delimiter\",\",\").option(\"header\",True).csv('files/evento.csv').show(5)"
   ]
  },
  {
   "cell_type": "code",
   "execution_count": 28,
   "metadata": {},
   "outputs": [],
   "source": [
    "def eliminarEncabezado(indice, iterador):\n",
    "    return iter(list(iterador)[1:])"
   ]
  },
  {
   "cell_type": "code",
   "execution_count": 31,
   "metadata": {},
   "outputs": [],
   "source": [
    "deportistasOlimpicosRDD = spark.textFile(\"./files/deportista.csv\").map(lambda l : l.split(','))\n",
    "deportistasOlimpicosRDD2 = spark.textFile('./files/deportista2.csv').map(lambda l: l.split('/'))\n",
    "\n",
    "deportistasOlimpicosRDD = deportistasOlimpicosRDD.union(deportistasOlimpicosRDD2)"
   ]
  },
  {
   "cell_type": "code",
   "execution_count": 33,
   "metadata": {},
   "outputs": [],
   "source": [
    "deportistasOlimpicosRDD = deportistasOlimpicosRDD.mapPartitionsWithIndex(eliminarEncabezado)"
   ]
  },
  {
   "cell_type": "code",
   "execution_count": 36,
   "metadata": {},
   "outputs": [
    {
     "data": {
      "text/plain": [
       "[['2', 'A Lamusi', '1', '23', '170', '60', '199'],\n",
       " ['3', 'Gunnar Nielsen Aaby', '1', '24', '0', '0', '273']]"
      ]
     },
     "execution_count": 36,
     "metadata": {},
     "output_type": "execute_result"
    }
   ],
   "source": [
    "deportistasOlimpicosRDD.take(2)"
   ]
  },
  {
   "cell_type": "code",
   "execution_count": 52,
   "metadata": {},
   "outputs": [],
   "source": [
    "deportistasOlimpicosRDD = deportistasOlimpicosRDD.map(lambda l: (\n",
    "    int(l[0]),\n",
    "    l[1],\n",
    "    int(l[2]),\n",
    "    int(l[3]),\n",
    "    int(l[4]),\n",
    "    float(l[5]),\n",
    "    int(l[6])\n",
    "))\n"
   ]
  },
  {
   "cell_type": "code",
   "execution_count": 57,
   "metadata": {},
   "outputs": [],
   "source": [
    "schemaDeportistas = StructType([\n",
    "    StructField(\"deportista_id\",IntegerType(),False),\n",
    "    StructField(\"nombre\",StringType(),False),\n",
    "    StructField(\"genero\",IntegerType(),False),\n",
    "    StructField(\"edad\",IntegerType(),False),\n",
    "    StructField(\"altura\",IntegerType(),False),\n",
    "    StructField(\"peso\",FloatType(),False),\n",
    "    StructField(\"equipo_id\",IntegerType(),False)\n",
    "])"
   ]
  },
  {
   "cell_type": "code",
   "execution_count": 60,
   "metadata": {},
   "outputs": [],
   "source": [
    "deportistasOlimpicosDF = sqlContext.createDataFrame(deportistasOlimpicosRDD,schemaDeportistas)"
   ]
  },
  {
   "cell_type": "code",
   "execution_count": 62,
   "metadata": {},
   "outputs": [
    {
     "name": "stdout",
     "output_type": "stream",
     "text": [
      "+-------------+--------------------+------+----+------+-----+---------+\n",
      "|deportista_id|              nombre|genero|edad|altura| peso|equipo_id|\n",
      "+-------------+--------------------+------+----+------+-----+---------+\n",
      "|            2|            A Lamusi|     1|  23|   170| 60.0|      199|\n",
      "|            3| Gunnar Nielsen Aaby|     1|  24|     0|  0.0|      273|\n",
      "|            4|Edgar Lindenau Aabye|     1|  34|     0|  0.0|      278|\n",
      "|            5|Christine Jacoba ...|     2|  21|   185| 82.0|      705|\n",
      "|            6|     Per Knut Aaland|     1|  31|   188| 75.0|     1096|\n",
      "|            7|        John Aalberg|     1|  31|   183| 72.0|     1096|\n",
      "|            8|Cornelia Cor Aalt...|     2|  18|   168|  0.0|      705|\n",
      "|            9|    Antti Sami Aalto|     1|  26|   186| 96.0|      350|\n",
      "|           10|Einar Ferdinand E...|     1|  26|     0|  0.0|      350|\n",
      "|           11|  Jorma Ilmari Aalto|     1|  22|   182| 76.5|      350|\n",
      "|           12|   Jyri Tapani Aalto|     1|  31|   172| 70.0|      350|\n",
      "|           13|  Minna Maarit Aalto|     2|  30|   159| 55.5|      350|\n",
      "|           14|Pirjo Hannele Aal...|     2|  32|   171| 65.0|      350|\n",
      "|           15|Arvo Ossian Aaltonen|     1|  22|     0|  0.0|      350|\n",
      "|           16|Juhamatti Tapio A...|     1|  28|   184| 85.0|      350|\n",
      "|           17|Paavo Johannes Aa...|     1|  28|   175| 64.0|      350|\n",
      "|           18|Timo Antero Aaltonen|     1|  31|   189|130.0|      350|\n",
      "|           19|Win Valdemar Aalt...|     1|  54|     0|  0.0|      350|\n",
      "|           20|  Kjetil Andr Aamodt|     1|  20|   176| 85.0|      742|\n",
      "|           21|Ragnhild Margreth...|     2|  27|   163|  0.0|      742|\n",
      "|           22|       Andreea Aanei|     2|  22|   170|125.0|      861|\n",
      "|           23|         Fritz Aanes|     1|  22|   187| 89.0|      742|\n",
      "|           24|    Nils Egil Aaness|     1|  24|     0|  0.0|      742|\n",
      "|           25|    Alf Lied Aanning|     1|  24|     0|  0.0|      742|\n",
      "|           26|Agnes Erika Aanon...|     2|  17|   169| 65.0|      742|\n",
      "|           27|       Johan Aantjes|     1|  26|     0|  0.0|      705|\n",
      "|           28|     JanErik Aarberg|     1|  43|   170| 77.0|      742|\n",
      "|           29|Willemien Aardenburg|     2|  22|     0|  0.0|      705|\n",
      "|           30|    Pepijn Aardewijn|     1|  26|   189| 72.0|      705|\n",
      "|           31|     Evald rma rman |     1|  24|   174| 70.0|      331|\n",
      "+-------------+--------------------+------+----+------+-----+---------+\n",
      "only showing top 30 rows\n",
      "\n"
     ]
    }
   ],
   "source": [
    "deportistasOlimpicosDF.show(30)"
   ]
  }
 ],
 "metadata": {
  "kernelspec": {
   "display_name": "Python 3.10.6 ('etl-tr7bmF_i')",
   "language": "python",
   "name": "python3"
  },
  "language_info": {
   "codemirror_mode": {
    "name": "ipython",
    "version": 3
   },
   "file_extension": ".py",
   "mimetype": "text/x-python",
   "name": "python",
   "nbconvert_exporter": "python",
   "pygments_lexer": "ipython3",
   "version": "3.10.6"
  },
  "orig_nbformat": 4,
  "vscode": {
   "interpreter": {
    "hash": "8d572c85ba2c8d55c322ee630ac12d86c217d0cbbb947351eb54e462c1a4bd53"
   }
  }
 },
 "nbformat": 4,
 "nbformat_minor": 2
}
